{
 "cells": [
  {
   "cell_type": "code",
   "execution_count": 110,
   "metadata": {},
   "outputs": [],
   "source": [
    "import numpy as np\n",
    "import matplotlib.pyplot as plt\n",
    "import pandas as pd"
   ]
  },
  {
   "cell_type": "code",
   "execution_count": 280,
   "metadata": {},
   "outputs": [
    {
     "name": "stdout",
     "output_type": "stream",
     "text": [
      "   Gender_f  Gender_m\n",
      "0         1         0\n",
      "1         1         0\n",
      "2         1         0\n",
      "3         1         0\n",
      "4         1         0\n",
      "   Max_pitch  Avg_pitch  harmonic  percussive    chroma     mfccs  contrast  \\\n",
      "0   0.134618   1.497048  0.013215   -0.025919 -0.435296 -0.275369  0.536295   \n",
      "1   0.010203   0.015233  0.015147   -0.055289 -1.464748 -0.052996  0.727536   \n",
      "2   0.146101   1.471575  0.015656   -0.028862 -0.977221 -0.088292  0.147186   \n",
      "3   0.165802   1.705779  0.018674    0.034075  0.432367 -0.046729  0.374442   \n",
      "4   0.119065   0.709232  0.014741   -0.054663 -0.036201  0.079671  0.596260   \n",
      "\n",
      "    rolloff     zrate  Spectralcentroid  \n",
      "0  1.555512  0.871418          1.152535  \n",
      "1  1.029680 -0.268728          0.351913  \n",
      "2  1.243102  0.716065          1.041939  \n",
      "3  1.520395  0.782194          1.252516  \n",
      "4  0.744706  0.467126          0.484467  \n"
     ]
    }
   ],
   "source": [
    "df = pd.DataFrame(pd.read_csv('normalized_data.csv'))\n",
    "df_input = df.drop(['target'],axis = 1)\n",
    "df1 = pd.DataFrame(pd.read_csv('Audio_features.csv'))\n",
    "df_new = df1.drop(['Id'],axis = 1)\n",
    "df_new = pd.get_dummies(df_new)\n",
    "target = df_new[['Gender_f','Gender_m']]\n",
    "print(target.head())\n",
    "print(df_input.head())"
   ]
  },
  {
   "cell_type": "code",
   "execution_count": 73,
   "metadata": {},
   "outputs": [],
   "source": [
    "def relu(d):\n",
    "    return (max(0,d))"
   ]
  },
  {
   "cell_type": "code",
   "execution_count": 195,
   "metadata": {},
   "outputs": [],
   "source": [
    "import math \n",
    "def softmax(num):\n",
    "    opt = np.array([])\n",
    "    expnum = np.array([])\n",
    "    s = 0\n",
    "    for i in range(len(num)):\n",
    "        expnum = np.append(expnum,math.exp(num[i]))\n",
    "        s += math.exp(num[i])\n",
    "        #print(expnum)\n",
    "    for j in range(len(expnum)):\n",
    "        g = expnum[j]/s\n",
    "        opt = np.append(opt,round(g,3))\n",
    "    return (opt)    "
   ]
  },
  {
   "cell_type": "code",
   "execution_count": 308,
   "metadata": {},
   "outputs": [],
   "source": [
    "def NN_pred(input_data,weight):\n",
    "    node_0_val = ((input_data*weight['node_0']).sum())\n",
    "    node_1_val = ((input_data*weight['node_1']).sum())\n",
    "    node_2_val = ((input_data*weight['node_2']).sum())\n",
    "    hidden_layer = np.array([node_0_val,node_1_val,node_2_val])\n",
    "    op_node0_val = ((hidden_layer*weight['op_node_0']).sum())\n",
    "    op_node1_val = ((hidden_layer*weight['op_node_1']).sum())\n",
    "    output_pred = softmax(np.array([op_node0_val,op_node1_val]))\n",
    "    return(output_pred)"
   ]
  },
  {
   "cell_type": "code",
   "execution_count": 309,
   "metadata": {},
   "outputs": [],
   "source": [
    "x1 =[]\n",
    "def grad_desc(x,w,y):\n",
    "    l_rate = 0.01\n",
    "    mse = []\n",
    "    for i in range(1,6):\n",
    "        x1.append(i)\n",
    "        \n",
    "        node_0_val = ((x*w['node_0']).sum())\n",
    "        node_1_val = ((x*w['node_1']).sum())\n",
    "        node_2_val = ((x*w['node_2']).sum())\n",
    "        hidden_layer = np.array([node_0_val,node_1_val,node_2_val])\n",
    "        op_node0_val = ((hidden_layer*w['op_node_0']).sum())\n",
    "        op_node1_val = ((hidden_layer*w['op_node_1']).sum())\n",
    "        y_pred = softmax(np.array([op_node0_val,op_node1_val]))\n",
    "        \n",
    "        #y_pred = NN_pred(x,w)\n",
    "        mse.append(np.sqrt((y[0]-y_pred[0])*(y[0]-y_pred[0])))\n",
    "        for j in range(0,3):\n",
    "            for k in range(0,len(w['node_'+str(j)])):\n",
    "                dmdw = 2*(y[0]-y_pred[0])*(-x[k])                 \n",
    "                w['node_'+str(j)][k] -= (l_rate*dmdw)\n",
    "   \n",
    "       \n",
    "        node_0_val = ((x*w['node_0']).sum())\n",
    "        node_1_val = ((x*w['node_1']).sum())\n",
    "        node_2_val = ((x*w['node_2']).sum())\n",
    "        hidden_layer = np.array([node_0_val,node_1_val,node_2_val])  \n",
    "        #print('Weight 0 and 1:',w['node_0'],w['node_1'])\n",
    "        #print('HiddenLayer :',hidden_layer)\n",
    "        for l in range(0,2):\n",
    "            for k in range(0,len(w['op_node_0'])):\n",
    "                dmdw1 = 2*(y[l]-y_pred[l])*(-hidden_layer[k])\n",
    "                #print('op_node_'+str(l)+' rate: ',dmdw1)\n",
    "                #print('op_node_'+str(l)+'rate : {} ,Hidden_Layer'+str(k)+' : {}'.format(dmdw1,hidden_layer[k]))\n",
    "                w['op_node_'+str(l)][k] -= (l_rate*dmdw1)\n",
    "                #w['op_node_'+str(l)][k] = w2            \n",
    "        #print(w1,w2)\n",
    "        print('Y_Predicted: {} ,Weights {}'.format(y_pred,w['op_node_0']))\n",
    "    print('RMSE : {}'.format(mse))\n",
    "    return(mse)"
   ]
  },
  {
   "cell_type": "code",
   "execution_count": 312,
   "metadata": {},
   "outputs": [],
   "source": [
    "input_data = np.array(df_input.loc[158])\n",
    "weight = {'node_0': np.array([3,4,6,8,7,2,6,3,2,1]), 'node_1':np.array([0.1,0.3,0.4,0.8,0.3,1.2,3,5,2.6,0.1]),\n",
    "         'node_2': np.array([0.5,0.3,0.7,0.8,4,3,7,2,9,1]), 'op_node_0': np.array([0.5,1.2,0.2]),'op_node_1': np.array([0.1,2,0.3])}\n",
    "output = np.array(target.loc[158])\n",
    "weight_copy = {'node_0': np.array([3,4,6,8,7,2,6,3,2,1]), 'node_1':np.array([0.1,0.3,0.4,0.8,0.3,1.2,3,5,2.6,0.1]),\n",
    "         'node_2': np.array([0.5,0.3,0.7,0.8,4,3,7,2,9,1]), 'op_node_0': np.array([0.5,1.2,0.2]),'op_node_1': np.array([0.1,2,0.3])}"
   ]
  },
  {
   "cell_type": "code",
   "execution_count": 313,
   "metadata": {},
   "outputs": [
    {
     "name": "stdout",
     "output_type": "stream",
     "text": [
      "Y_Predicted: [0.359 0.641] ,Weights [0.59220958 1.23022973 0.25938841]\n",
      "Y_Predicted: [0.01 0.99] ,Weights [0.59496783 1.2310719  0.2610428 ]\n",
      "Y_Predicted: [0.005 0.995] ,Weights [0.59635924 1.23149301 0.26187003]\n",
      "Y_Predicted: [0.005 0.995] ,Weights [0.59775376 1.23191416 0.26269728]\n",
      "Y_Predicted: [0.004 0.996] ,Weights [0.59887187 1.23225109 0.26335911]\n",
      "RMSE : [0.359, 0.01, 0.005, 0.005, 0.004]\n"
     ]
    }
   ],
   "source": [
    "rmse = list()\n",
    "rmse = grad_desc(input_data,weight,output)"
   ]
  },
  {
   "cell_type": "code",
   "execution_count": 296,
   "metadata": {},
   "outputs": [
    {
     "data": {
      "text/plain": [
       "array([0.001, 0.999])"
      ]
     },
     "execution_count": 296,
     "metadata": {},
     "output_type": "execute_result"
    }
   ],
   "source": [
    "imp = np.array(df_input.loc[68])\n",
    "NN_pred(imp,weight)"
   ]
  },
  {
   "cell_type": "code",
   "execution_count": 278,
   "metadata": {},
   "outputs": [
    {
     "data": {
      "text/html": [
       "<div>\n",
       "<style scoped>\n",
       "    .dataframe tbody tr th:only-of-type {\n",
       "        vertical-align: middle;\n",
       "    }\n",
       "\n",
       "    .dataframe tbody tr th {\n",
       "        vertical-align: top;\n",
       "    }\n",
       "\n",
       "    .dataframe thead th {\n",
       "        text-align: right;\n",
       "    }\n",
       "</style>\n",
       "<table border=\"1\" class=\"dataframe\">\n",
       "  <thead>\n",
       "    <tr style=\"text-align: right;\">\n",
       "      <th></th>\n",
       "      <th>Gender_f</th>\n",
       "      <th>Gender_m</th>\n",
       "    </tr>\n",
       "  </thead>\n",
       "  <tbody>\n",
       "    <tr>\n",
       "      <th>0</th>\n",
       "      <td>1</td>\n",
       "      <td>0</td>\n",
       "    </tr>\n",
       "    <tr>\n",
       "      <th>1</th>\n",
       "      <td>1</td>\n",
       "      <td>0</td>\n",
       "    </tr>\n",
       "    <tr>\n",
       "      <th>2</th>\n",
       "      <td>1</td>\n",
       "      <td>0</td>\n",
       "    </tr>\n",
       "    <tr>\n",
       "      <th>3</th>\n",
       "      <td>1</td>\n",
       "      <td>0</td>\n",
       "    </tr>\n",
       "    <tr>\n",
       "      <th>4</th>\n",
       "      <td>1</td>\n",
       "      <td>0</td>\n",
       "    </tr>\n",
       "  </tbody>\n",
       "</table>\n",
       "</div>"
      ],
      "text/plain": [
       "   Gender_f  Gender_m\n",
       "0         1         0\n",
       "1         1         0\n",
       "2         1         0\n",
       "3         1         0\n",
       "4         1         0"
      ]
     },
     "execution_count": 278,
     "metadata": {},
     "output_type": "execute_result"
    }
   ],
   "source": [
    "df = pd.DataFrame(pd.read_csv('Audio_features.csv'))\n",
    "df_new = df.drop(['Id'],axis = 1)\n",
    "df_new = pd.get_dummies(df_new)\n",
    "target = df_new[['Gender_f','Gender_m']]\n",
    "target.head()"
   ]
  },
  {
   "cell_type": "code",
   "execution_count": 286,
   "metadata": {},
   "outputs": [
    {
     "data": {
      "text/plain": [
       "Gender_f    0\n",
       "Gender_m    1\n",
       "Name: 159, dtype: uint8"
      ]
     },
     "execution_count": 286,
     "metadata": {},
     "output_type": "execute_result"
    }
   ],
   "source": [
    "target.loc[159]"
   ]
  },
  {
   "cell_type": "code",
   "execution_count": null,
   "metadata": {},
   "outputs": [],
   "source": []
  }
 ],
 "metadata": {
  "kernelspec": {
   "display_name": "Python 3",
   "language": "python",
   "name": "python3"
  },
  "language_info": {
   "codemirror_mode": {
    "name": "ipython",
    "version": 3
   },
   "file_extension": ".py",
   "mimetype": "text/x-python",
   "name": "python",
   "nbconvert_exporter": "python",
   "pygments_lexer": "ipython3",
   "version": "3.6.5"
  }
 },
 "nbformat": 4,
 "nbformat_minor": 2
}
